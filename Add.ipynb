{
 "cells": [
  {
   "cell_type": "code",
   "execution_count": 1,
   "metadata": {},
   "outputs": [],
   "source": [
    "import pandas as pd\n",
    "import numpy as np\n",
    "import matplotlib.pyplot as plt\n",
    "from numpy.core.defchararray import add as npStrAdd\n",
    "import ipysheet\n",
    "from ipywidgets import Button, HBox, VBox\n",
    "\n",
    "tdata = pd.read_pickle('Transaction.pkl')\n",
    "bdata = pd.read_pickle('Budget.pkl')\n",
    "months = np.array(['', 'Jan', 'Feb', 'Mar', 'Apr', 'May', 'Jun', 'Jul', 'Aug', 'Sep', 'Oct', 'Nov', 'Dec'])\n",
    "\n",
    "rows = 15\n",
    "columns = 5"
   ]
  },
  {
   "cell_type": "code",
   "execution_count": 17,
   "metadata": {
    "jupyter": {
     "source_hidden": true
    }
   },
   "outputs": [],
   "source": [
    "def createSheet(tdata, startIndex, rows, columns, key=\"A\"):\n",
    "    S = ipysheet.sheet(rows = rows, columns = columns, key=key)\n",
    "    Cells = np.zeros((rows, columns)).tolist()\n",
    "    for i in range(rows):\n",
    "        if i + startIndex < tdata.shape[0]:\n",
    "            Cells[i][0] = ipysheet.cell(i, 0, tdata.iloc[i + startIndex, 0].strftime('%d/%m/%Y'))\n",
    "            Cells[i][1] = ipysheet.cell(i, 1, tdata.iloc[i + startIndex, 1].astype(str))\n",
    "            Cells[i][2] = ipysheet.cell(i, 2, tdata.iloc[i + startIndex, 2])\n",
    "            if tdata.iloc[i + startIndex, 3] == '' or not np.isfinite(tdata.iloc[i + startIndex, 3]):\n",
    "                Cells[i][3] = ipysheet.cell(i, 3, '')\n",
    "            else:\n",
    "                Cells[i][3] = ipysheet.cell(i, 3, tdata.iloc[i + startIndex, 3])\n",
    "\n",
    "            Cells[i][4] = ipysheet.cell(i, 4, tdata.iloc[i + startIndex, 4])\n",
    "        else:\n",
    "            Cells[i][0] = ipysheet.cell(i, 0, '')\n",
    "            Cells[i][1] = ipysheet.cell(i, 1, '')\n",
    "            Cells[i][2] = ipysheet.cell(i, 2, '')\n",
    "            Cells[i][3] = ipysheet.cell(i, 3, '')\n",
    "            Cells[i][4] = ipysheet.cell(i, 4, '')\n",
    "            \n",
    "    return S, Cells\n",
    "    \n",
    "def readSheet(tdata, startIndex, rows, columns, S, Cells):\n",
    "    for i in range(rows):\n",
    "        if i + startIndex < tdata.shape[0]:\n",
    "            tdata.iloc[i + startIndex, :] = pd.Series(\n",
    "                [np.datetime64(pd.to_datetime(Cells[i][0].value, dayfirst=True), 's')] + \n",
    "                [float(Cells[i][1].value)] + \n",
    "                [Cells[i][2].value, Cells[i][3].value, Cells[i][4].value], \n",
    "                index=tdata.columns)\n",
    "        else:\n",
    "            if Cells[i][0].value != '':\n",
    "                row = pd.Series(\n",
    "                [np.datetime64(pd.to_datetime(Cells[i][0].value, dayfirst=True), 's')] + \n",
    "                [float(Cells[i][1].value)] + \n",
    "                [Cells[i][2].value, Cells[i][3].value, Cells[i][4].value], \n",
    "                index=tdata.columns)\n",
    "\n",
    "                tdata = tdata.append(row, ignore_index=True)\n",
    "        \n",
    "    return tdata\n",
    "\n",
    "def updateSheet(tdata, startIndex, rows, columns, S, Cells):\n",
    "    for i in range(rows):\n",
    "        if i + startIndex < tdata.shape[0]:\n",
    "            Cells[i][0].value = tdata.iloc[i + startIndex, 0].strftime('%d/%m/%Y')\n",
    "            Cells[i][1].value = tdata.iloc[i + startIndex, 1].astype(str)\n",
    "            Cells[i][2].value = tdata.iloc[i + startIndex, 2]\n",
    "            # print(tdata.iloc[i + startIndex, 3], type(tdata.iloc[i + startIndex, 3]))\n",
    "            if not isinstance(tdata.iloc[i + startIndex, 3], str) and (tdata.iloc[i + startIndex, 3] == '' or not np.isfinite(tdata.iloc[i + startIndex, 3])):\n",
    "                Cells[i][3].value = ''\n",
    "            else:\n",
    "                Cells[i][3].value = tdata.iloc[i + startIndex, 3]\n",
    "\n",
    "            Cells[i][4].value = tdata.iloc[i + startIndex, 4]\n",
    "        else:\n",
    "            Cells[i][0].value = ''\n",
    "            Cells[i][1].value = ''\n",
    "            Cells[i][2].value = ''\n",
    "            Cells[i][3].value = ''\n",
    "            Cells[i][4].value = ''\n",
    "            \n",
    "    return S, Cells"
   ]
  },
  {
   "cell_type": "code",
   "execution_count": 21,
   "metadata": {},
   "outputs": [],
   "source": [
    "startIndex = tdata.shape[0] - 5"
   ]
  },
  {
   "cell_type": "code",
   "execution_count": 4,
   "metadata": {},
   "outputs": [
    {
     "data": {
      "text/html": [
       "<div>\n",
       "<style scoped>\n",
       "    .dataframe tbody tr th:only-of-type {\n",
       "        vertical-align: middle;\n",
       "    }\n",
       "\n",
       "    .dataframe tbody tr th {\n",
       "        vertical-align: top;\n",
       "    }\n",
       "\n",
       "    .dataframe thead th {\n",
       "        text-align: right;\n",
       "    }\n",
       "</style>\n",
       "<table border=\"1\" class=\"dataframe\">\n",
       "  <thead>\n",
       "    <tr style=\"text-align: right;\">\n",
       "      <th></th>\n",
       "      <th>Date</th>\n",
       "      <th>Amt</th>\n",
       "      <th>Category</th>\n",
       "      <th>TAG</th>\n",
       "      <th>Summary</th>\n",
       "    </tr>\n",
       "  </thead>\n",
       "  <tbody>\n",
       "    <tr>\n",
       "      <th>332</th>\n",
       "      <td>2019-10-10</td>\n",
       "      <td>99.00</td>\n",
       "      <td>Shopping</td>\n",
       "      <td>NaN</td>\n",
       "      <td>Jacket</td>\n",
       "    </tr>\n",
       "    <tr>\n",
       "      <th>333</th>\n",
       "      <td>2019-10-10</td>\n",
       "      <td>10.60</td>\n",
       "      <td>Eat-Out</td>\n",
       "      <td>NaN</td>\n",
       "      <td>Messina</td>\n",
       "    </tr>\n",
       "    <tr>\n",
       "      <th>334</th>\n",
       "      <td>2019-10-12</td>\n",
       "      <td>79.79</td>\n",
       "      <td>Utilities</td>\n",
       "      <td>NaN</td>\n",
       "      <td>Arc</td>\n",
       "    </tr>\n",
       "    <tr>\n",
       "      <th>335</th>\n",
       "      <td>2019-10-12</td>\n",
       "      <td>29.85</td>\n",
       "      <td>Groceries</td>\n",
       "      <td>NaN</td>\n",
       "      <td>Coles</td>\n",
       "    </tr>\n",
       "    <tr>\n",
       "      <th>336</th>\n",
       "      <td>2019-10-12</td>\n",
       "      <td>13.55</td>\n",
       "      <td>Groceries</td>\n",
       "      <td>NaN</td>\n",
       "      <td>Meat</td>\n",
       "    </tr>\n",
       "  </tbody>\n",
       "</table>\n",
       "</div>"
      ],
      "text/plain": [
       "          Date    Amt   Category  TAG  Summary\n",
       "332 2019-10-10  99.00   Shopping  NaN   Jacket\n",
       "333 2019-10-10  10.60    Eat-Out  NaN  Messina\n",
       "334 2019-10-12  79.79  Utilities  NaN      Arc\n",
       "335 2019-10-12  29.85  Groceries  NaN    Coles\n",
       "336 2019-10-12  13.55  Groceries  NaN     Meat"
      ]
     },
     "execution_count": 4,
     "metadata": {},
     "output_type": "execute_result"
    }
   ],
   "source": [
    "tdata.iloc[startIndex:, :]"
   ]
  },
  {
   "cell_type": "code",
   "execution_count": 5,
   "metadata": {},
   "outputs": [
    {
     "data": {
      "application/vnd.jupyter.widget-view+json": {
       "model_id": "4813ad6dbe894969aa9150b8b05fb385",
       "version_major": 2,
       "version_minor": 0
      },
      "text/plain": [
       "Sheet(cells=(Cell(column_end=0, column_start=0, row_end=0, row_start=0, type='text', value='10/10/2019'), Cell…"
      ]
     },
     "metadata": {},
     "output_type": "display_data"
    }
   ],
   "source": [
    "S, Cells = createSheet(tdata, startIndex, rows, columns)\n",
    "S"
   ]
  },
  {
   "cell_type": "code",
   "execution_count": 40,
   "metadata": {},
   "outputs": [],
   "source": [
    "tdata = readSheet(tdata, startIndex, rows, columns, S, Cells)"
   ]
  },
  {
   "cell_type": "code",
   "execution_count": 41,
   "metadata": {},
   "outputs": [
    {
     "data": {
      "text/html": [
       "<div>\n",
       "<style scoped>\n",
       "    .dataframe tbody tr th:only-of-type {\n",
       "        vertical-align: middle;\n",
       "    }\n",
       "\n",
       "    .dataframe tbody tr th {\n",
       "        vertical-align: top;\n",
       "    }\n",
       "\n",
       "    .dataframe thead th {\n",
       "        text-align: right;\n",
       "    }\n",
       "</style>\n",
       "<table border=\"1\" class=\"dataframe\">\n",
       "  <thead>\n",
       "    <tr style=\"text-align: right;\">\n",
       "      <th></th>\n",
       "      <th>Date</th>\n",
       "      <th>Amt</th>\n",
       "      <th>Category</th>\n",
       "      <th>TAG</th>\n",
       "      <th>Summary</th>\n",
       "    </tr>\n",
       "  </thead>\n",
       "  <tbody>\n",
       "    <tr>\n",
       "      <th>391</th>\n",
       "      <td>2019-11-04</td>\n",
       "      <td>52.96</td>\n",
       "      <td>Shopping</td>\n",
       "      <td></td>\n",
       "      <td>Tripod Stand</td>\n",
       "    </tr>\n",
       "    <tr>\n",
       "      <th>392</th>\n",
       "      <td>2019-11-06</td>\n",
       "      <td>8.50</td>\n",
       "      <td>Eat-Out</td>\n",
       "      <td></td>\n",
       "      <td>Sushi</td>\n",
       "    </tr>\n",
       "    <tr>\n",
       "      <th>393</th>\n",
       "      <td>2019-11-10</td>\n",
       "      <td>200.00</td>\n",
       "      <td>Cash</td>\n",
       "      <td></td>\n",
       "      <td>Cash</td>\n",
       "    </tr>\n",
       "    <tr>\n",
       "      <th>394</th>\n",
       "      <td>2019-11-07</td>\n",
       "      <td>80.50</td>\n",
       "      <td>Eat-Out</td>\n",
       "      <td></td>\n",
       "      <td>Rashays</td>\n",
       "    </tr>\n",
       "    <tr>\n",
       "      <th>395</th>\n",
       "      <td>2019-11-08</td>\n",
       "      <td>15.00</td>\n",
       "      <td>Eat-Out</td>\n",
       "      <td></td>\n",
       "      <td>GyG</td>\n",
       "    </tr>\n",
       "    <tr>\n",
       "      <th>396</th>\n",
       "      <td>2019-11-08</td>\n",
       "      <td>1.00</td>\n",
       "      <td>Eat-Out</td>\n",
       "      <td></td>\n",
       "      <td>7-Eleven</td>\n",
       "    </tr>\n",
       "    <tr>\n",
       "      <th>397</th>\n",
       "      <td>2019-11-08</td>\n",
       "      <td>68.05</td>\n",
       "      <td>Groceries</td>\n",
       "      <td></td>\n",
       "      <td>Coles</td>\n",
       "    </tr>\n",
       "    <tr>\n",
       "      <th>398</th>\n",
       "      <td>2019-11-09</td>\n",
       "      <td>5.70</td>\n",
       "      <td>Eat-Out</td>\n",
       "      <td></td>\n",
       "      <td>Hungry Jacks</td>\n",
       "    </tr>\n",
       "    <tr>\n",
       "      <th>399</th>\n",
       "      <td>2019-11-09</td>\n",
       "      <td>1.10</td>\n",
       "      <td>Eat-Out</td>\n",
       "      <td></td>\n",
       "      <td>Coles Express</td>\n",
       "    </tr>\n",
       "  </tbody>\n",
       "</table>\n",
       "</div>"
      ],
      "text/plain": [
       "          Date     Amt   Category TAG        Summary\n",
       "391 2019-11-04   52.96   Shopping       Tripod Stand\n",
       "392 2019-11-06    8.50    Eat-Out              Sushi\n",
       "393 2019-11-10  200.00       Cash               Cash\n",
       "394 2019-11-07   80.50    Eat-Out            Rashays\n",
       "395 2019-11-08   15.00    Eat-Out                GyG\n",
       "396 2019-11-08    1.00    Eat-Out           7-Eleven\n",
       "397 2019-11-08   68.05  Groceries              Coles\n",
       "398 2019-11-09    5.70    Eat-Out       Hungry Jacks\n",
       "399 2019-11-09    1.10    Eat-Out      Coles Express"
      ]
     },
     "execution_count": 41,
     "metadata": {},
     "output_type": "execute_result"
    }
   ],
   "source": [
    "tdata.iloc[startIndex:, :]"
   ]
  },
  {
   "cell_type": "code",
   "execution_count": 39,
   "metadata": {},
   "outputs": [],
   "source": [
    "startIndex += 13\n",
    "S, Cells = updateSheet(tdata, startIndex, rows, columns, S, Cells)"
   ]
  },
  {
   "cell_type": "code",
   "execution_count": 43,
   "metadata": {},
   "outputs": [
    {
     "name": "stdout",
     "output_type": "stream",
     "text": [
      "WARNING: Writing Out!!\n"
     ]
    }
   ],
   "source": [
    "# WARNING!! Make certain!\n",
    "if False:\n",
    "    print('WARNING: Writing Out!!')\n",
    "    tdata.to_pickle('Transaction.pkl')"
   ]
  },
  {
   "cell_type": "markdown",
   "metadata": {},
   "source": [
    "## Buttons"
   ]
  },
  {
   "cell_type": "code",
   "execution_count": 11,
   "metadata": {},
   "outputs": [
    {
     "data": {
      "application/vnd.jupyter.widget-view+json": {
       "model_id": "7f16931c9e374aa9b759fbb09efbcdd5",
       "version_major": 2,
       "version_minor": 0
      },
      "text/plain": [
       "HBox(children=(VBox(children=(Button(description='correct', style=ButtonStyle()), Button(description='horse', …"
      ]
     },
     "metadata": {},
     "output_type": "display_data"
    }
   ],
   "source": [
    "words = ['correct', 'horse', 'battery', 'staple']\n",
    "items = [Button(description=w) for w in words]\n",
    "\n",
    "msg = ''\n",
    "\n",
    "def gen(text):\n",
    "    def clicked(*args, **kwargs):\n",
    "        global msg\n",
    "        msg = '{} called with {}, {}'.format(text, args, kwargs)\n",
    "    \n",
    "    return clicked\n",
    "\n",
    "def msg ():\n",
    "    global msg\n",
    "    msg = 'sdsd'\n",
    "\n",
    "for i, btn in enumerate(items):\n",
    "    btn.on_click(gen(words[i]))\n",
    "    \n",
    "\n",
    "left_box = VBox([items[0], items[1]])\n",
    "right_box = VBox([items[2], items[3]])\n",
    "HBox([left_box, right_box])"
   ]
  },
  {
   "cell_type": "code",
   "execution_count": 13,
   "metadata": {},
   "outputs": [
    {
     "data": {
      "text/plain": [
       "\"battery called with (Button(description='battery', style=ButtonStyle()),), {}\""
      ]
     },
     "execution_count": 13,
     "metadata": {},
     "output_type": "execute_result"
    }
   ],
   "source": [
    "msg"
   ]
  },
  {
   "cell_type": "code",
   "execution_count": null,
   "metadata": {},
   "outputs": [],
   "source": []
  }
 ],
 "metadata": {
  "kernelspec": {
   "display_name": "Python 3",
   "language": "python",
   "name": "python3"
  },
  "language_info": {
   "codemirror_mode": {
    "name": "ipython",
    "version": 3
   },
   "file_extension": ".py",
   "mimetype": "text/x-python",
   "name": "python",
   "nbconvert_exporter": "python",
   "pygments_lexer": "ipython3",
   "version": "3.7.5"
  }
 },
 "nbformat": 4,
 "nbformat_minor": 4
}
