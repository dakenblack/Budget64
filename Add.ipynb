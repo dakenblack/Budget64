{
 "cells": [
  {
   "cell_type": "code",
   "execution_count": 1,
   "metadata": {},
   "outputs": [],
   "source": [
    "import pandas as pd\n",
    "import numpy as np\n",
    "import matplotlib.pyplot as plt\n",
    "from numpy.core.defchararray import add as npStrAdd\n",
    "import ipysheet\n",
    "from ipywidgets import Button, HBox, VBox, Layout, Label\n",
    "\n",
    "tdata = pd.read_pickle('Transaction.pkl')\n",
    "bdata = pd.read_pickle('Budget.pkl')\n",
    "months = np.array(['', 'Jan', 'Feb', 'Mar', 'Apr', 'May', 'Jun', 'Jul', 'Aug', 'Sep', 'Oct', 'Nov', 'Dec'])\n",
    "\n",
    "rows = 15\n",
    "columns = 5"
   ]
  },
  {
   "cell_type": "code",
   "execution_count": 2,
   "metadata": {
    "jupyter": {
     "source_hidden": true
    }
   },
   "outputs": [],
   "source": [
    "def createSheet(tdata, startIndex, rows, columns, key=\"A\"):\n",
    "    S = ipysheet.sheet(rows = rows, columns = columns, key=key)\n",
    "    Cells = np.zeros((rows, columns)).tolist()\n",
    "    for i in range(rows):\n",
    "        if i + startIndex < tdata.shape[0]:\n",
    "            Cells[i][0] = ipysheet.cell(i, 0, tdata.iloc[i + startIndex, 0].strftime('%d/%m/%Y'))\n",
    "            Cells[i][1] = ipysheet.cell(i, 1, tdata.iloc[i + startIndex, 1].astype(str))\n",
    "            Cells[i][2] = ipysheet.cell(i, 2, tdata.iloc[i + startIndex, 2])\n",
    "            if tdata.iloc[i + startIndex, 3] == '' or not np.isfinite(tdata.iloc[i + startIndex, 3]):\n",
    "                Cells[i][3] = ipysheet.cell(i, 3, '')\n",
    "            else:\n",
    "                Cells[i][3] = ipysheet.cell(i, 3, tdata.iloc[i + startIndex, 3])\n",
    "\n",
    "            Cells[i][4] = ipysheet.cell(i, 4, tdata.iloc[i + startIndex, 4])\n",
    "        else:\n",
    "            Cells[i][0] = ipysheet.cell(i, 0, '')\n",
    "            Cells[i][1] = ipysheet.cell(i, 1, '')\n",
    "            Cells[i][2] = ipysheet.cell(i, 2, '')\n",
    "            Cells[i][3] = ipysheet.cell(i, 3, '')\n",
    "            Cells[i][4] = ipysheet.cell(i, 4, '')\n",
    "            \n",
    "    return S, Cells\n",
    "    \n",
    "def readSheet(tdata, startIndex, rows, columns, S, Cells):\n",
    "    for i in range(rows):\n",
    "        if i + startIndex < tdata.shape[0]:\n",
    "            tdata.iloc[i + startIndex, :] = pd.Series(\n",
    "                [np.datetime64(pd.to_datetime(Cells[i][0].value, dayfirst=True), 's')] + \n",
    "                [float(Cells[i][1].value)] + \n",
    "                [Cells[i][2].value, Cells[i][3].value, Cells[i][4].value], \n",
    "                index=tdata.columns)\n",
    "        else:\n",
    "            if Cells[i][0].value != '':\n",
    "                row = pd.Series(\n",
    "                [np.datetime64(pd.to_datetime(Cells[i][0].value, dayfirst=True), 's')] + \n",
    "                [float(Cells[i][1].value)] + \n",
    "                [Cells[i][2].value, Cells[i][3].value, Cells[i][4].value], \n",
    "                index=tdata.columns)\n",
    "\n",
    "                tdata = tdata.append(row, ignore_index=True)\n",
    "        \n",
    "    return tdata\n",
    "\n",
    "def updateSheet(tdata, startIndex, rows, columns, S, Cells):\n",
    "    for i in range(rows):\n",
    "        if i + startIndex < tdata.shape[0]:\n",
    "            Cells[i][0].value = tdata.iloc[i + startIndex, 0].strftime('%d/%m/%Y')\n",
    "            Cells[i][1].value = tdata.iloc[i + startIndex, 1].astype(str)\n",
    "            Cells[i][2].value = tdata.iloc[i + startIndex, 2]\n",
    "            # print(tdata.iloc[i + startIndex, 3], type(tdata.iloc[i + startIndex, 3]))\n",
    "            if not isinstance(tdata.iloc[i + startIndex, 3], str) and (tdata.iloc[i + startIndex, 3] == '' or not np.isfinite(tdata.iloc[i + startIndex, 3])):\n",
    "                Cells[i][3].value = ''\n",
    "            else:\n",
    "                Cells[i][3].value = tdata.iloc[i + startIndex, 3]\n",
    "\n",
    "            Cells[i][4].value = tdata.iloc[i + startIndex, 4]\n",
    "        else:\n",
    "            Cells[i][0].value = ''\n",
    "            Cells[i][1].value = ''\n",
    "            Cells[i][2].value = ''\n",
    "            Cells[i][3].value = ''\n",
    "            Cells[i][4].value = ''\n",
    "            \n",
    "    return S, Cells"
   ]
  },
  {
   "cell_type": "code",
   "execution_count": 3,
   "metadata": {},
   "outputs": [],
   "source": [
    "startIndex = tdata.shape[0] - 5"
   ]
  },
  {
   "cell_type": "code",
   "execution_count": 4,
   "metadata": {},
   "outputs": [],
   "source": [
    "S, Cells = createSheet(tdata, startIndex, rows, columns, key=\"A\")"
   ]
  },
  {
   "cell_type": "code",
   "execution_count": 5,
   "metadata": {},
   "outputs": [
    {
     "data": {
      "application/vnd.jupyter.widget-view+json": {
       "model_id": "9e24a511e8b14887982317380090412d",
       "version_major": 2,
       "version_minor": 0
      },
      "text/plain": [
       "VBox(children=(Sheet(cells=(Cell(column_end=0, column_start=0, row_end=0, row_start=0, type='text', value='08/…"
      ]
     },
     "metadata": {},
     "output_type": "display_data"
    }
   ],
   "source": [
    "next_btn = Button(description='Next', layout=Layout(width='99.5%'))\n",
    "prev_btn = Button(description='Prev', layout=Layout(width='99.5%'))\n",
    "save_btn = Button(description='Save', layout=Layout(width='99.5%'))\n",
    "gmsg = ''\n",
    "lbl = Label(value='Idle')\n",
    "\n",
    "def next_click(*args, **kwargs):\n",
    "    global S\n",
    "    global Cells\n",
    "    global tdata\n",
    "    global startIndex\n",
    "    global lbl\n",
    "    lbl.value = 'Working..'\n",
    "    \n",
    "    tdata = readSheet(tdata, startIndex, rows, columns, S, Cells)\n",
    "    \n",
    "    if(startIndex + 13 > tdata.shape[0]):\n",
    "        return\n",
    "    \n",
    "    startIndex += 13\n",
    "    S, Cells = updateSheet(tdata, startIndex, rows, columns, S, Cells)\n",
    "    lbl.value = 'Idle'\n",
    "    \n",
    "def prev_click(*args, **kwargs):\n",
    "    global S\n",
    "    global Cells\n",
    "    global tdata\n",
    "    global startIndex\n",
    "    global lbl\n",
    "    lbl.value = 'Working..'\n",
    "    \n",
    "    tdata = readSheet(tdata, startIndex, rows, columns, S, Cells)\n",
    "    \n",
    "    if(startIndex == 0):\n",
    "        return\n",
    "    elif(startIndex - 13 < 0):\n",
    "        startIndex = 0\n",
    "    else:\n",
    "        startIndex -= 13\n",
    "        \n",
    "    S, Cells = updateSheet(tdata, startIndex, rows, columns, S, Cells)\n",
    "    lbl.value = 'Idle'\n",
    "\n",
    "def save_click(*args, **kwargs):\n",
    "    global tdata\n",
    "    global lbl\n",
    "    lbl.value = 'Working..'\n",
    "    tdata = readSheet(tdata, startIndex, rows, columns, S, Cells)\n",
    "    lbl.value = 'Idle'\n",
    "                      \n",
    "    # WARNING!! Make certain!\n",
    "    tdata.to_pickle('Transaction.pkl')\n",
    "    \n",
    "prev_btn.on_click(prev_click)\n",
    "save_btn.on_click(save_click)\n",
    "next_btn.on_click(next_click)\n",
    "\n",
    "btns = HBox([prev_btn, save_btn, next_btn])\n",
    "VBox([S, btns, lbl])"
   ]
  },
  {
   "cell_type": "markdown",
   "metadata": {},
   "source": [
    "## Raw Functions"
   ]
  },
  {
   "cell_type": "code",
   "execution_count": 6,
   "metadata": {},
   "outputs": [],
   "source": [
    "# tdata = readSheet(tdata, startIndex, rows, columns, S, Cells)"
   ]
  },
  {
   "cell_type": "code",
   "execution_count": 7,
   "metadata": {},
   "outputs": [
    {
     "data": {
      "text/html": [
       "<div>\n",
       "<style scoped>\n",
       "    .dataframe tbody tr th:only-of-type {\n",
       "        vertical-align: middle;\n",
       "    }\n",
       "\n",
       "    .dataframe tbody tr th {\n",
       "        vertical-align: top;\n",
       "    }\n",
       "\n",
       "    .dataframe thead th {\n",
       "        text-align: right;\n",
       "    }\n",
       "</style>\n",
       "<table border=\"1\" class=\"dataframe\">\n",
       "  <thead>\n",
       "    <tr style=\"text-align: right;\">\n",
       "      <th></th>\n",
       "      <th>Date</th>\n",
       "      <th>Amt</th>\n",
       "      <th>Category</th>\n",
       "      <th>TAG</th>\n",
       "      <th>Summary</th>\n",
       "    </tr>\n",
       "  </thead>\n",
       "  <tbody>\n",
       "    <tr>\n",
       "      <th>397</th>\n",
       "      <td>2019-11-08</td>\n",
       "      <td>68.05</td>\n",
       "      <td>Groceries</td>\n",
       "      <td></td>\n",
       "      <td>Coles</td>\n",
       "    </tr>\n",
       "    <tr>\n",
       "      <th>398</th>\n",
       "      <td>2019-11-09</td>\n",
       "      <td>5.70</td>\n",
       "      <td>Eat-Out</td>\n",
       "      <td></td>\n",
       "      <td>Hungry Jacks</td>\n",
       "    </tr>\n",
       "    <tr>\n",
       "      <th>399</th>\n",
       "      <td>2019-11-09</td>\n",
       "      <td>1.10</td>\n",
       "      <td>Eat-Out</td>\n",
       "      <td></td>\n",
       "      <td>Coles Express</td>\n",
       "    </tr>\n",
       "    <tr>\n",
       "      <th>400</th>\n",
       "      <td>2019-11-11</td>\n",
       "      <td>8.50</td>\n",
       "      <td>Eat-Out</td>\n",
       "      <td></td>\n",
       "      <td>Sushi</td>\n",
       "    </tr>\n",
       "    <tr>\n",
       "      <th>401</th>\n",
       "      <td>2019-11-11</td>\n",
       "      <td>12.00</td>\n",
       "      <td>Groceries</td>\n",
       "      <td></td>\n",
       "      <td>Woolies</td>\n",
       "    </tr>\n",
       "  </tbody>\n",
       "</table>\n",
       "</div>"
      ],
      "text/plain": [
       "          Date    Amt   Category TAG        Summary\n",
       "397 2019-11-08  68.05  Groceries              Coles\n",
       "398 2019-11-09   5.70    Eat-Out       Hungry Jacks\n",
       "399 2019-11-09   1.10    Eat-Out      Coles Express\n",
       "400 2019-11-11   8.50    Eat-Out              Sushi\n",
       "401 2019-11-11  12.00  Groceries            Woolies"
      ]
     },
     "execution_count": 7,
     "metadata": {},
     "output_type": "execute_result"
    }
   ],
   "source": [
    "tdata.iloc[startIndex:, :]"
   ]
  },
  {
   "cell_type": "code",
   "execution_count": 8,
   "metadata": {},
   "outputs": [],
   "source": [
    "# startIndex -= 13\n",
    "# S, Cells = updateSheet(tdata, startIndex, rows, columns, S, Cells)"
   ]
  },
  {
   "cell_type": "code",
   "execution_count": 9,
   "metadata": {},
   "outputs": [],
   "source": [
    "# WARNING!! Make certain!\n",
    "# if False:\n",
    "#     print('WARNING: Writing Out!!')\n",
    "#     tdata.to_pickle('Transaction.pkl')"
   ]
  },
  {
   "cell_type": "code",
   "execution_count": 10,
   "metadata": {},
   "outputs": [],
   "source": [
    "# tdata_bak = tdata.copy()"
   ]
  }
 ],
 "metadata": {
  "kernelspec": {
   "display_name": "Python 3",
   "language": "python",
   "name": "python3"
  },
  "language_info": {
   "codemirror_mode": {
    "name": "ipython",
    "version": 3
   },
   "file_extension": ".py",
   "mimetype": "text/x-python",
   "name": "python",
   "nbconvert_exporter": "python",
   "pygments_lexer": "ipython3",
   "version": "3.7.5"
  }
 },
 "nbformat": 4,
 "nbformat_minor": 4
}
