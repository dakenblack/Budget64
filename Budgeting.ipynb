{
 "cells": [
  {
   "cell_type": "markdown",
   "metadata": {},
   "source": [
    "# Budget64"
   ]
  },
  {
   "cell_type": "code",
   "execution_count": 37,
   "metadata": {},
   "outputs": [],
   "source": [
    "import pandas as pd\n",
    "import numpy as np\n",
    "import matplotlib.pyplot as plt\n",
    "from numpy.core.defchararray import add as npStrAdd\n",
    "tdata = pd.read_pickle('Transaction.pkl')\n",
    "bdata = pd.read_pickle('Budget.pkl')\n",
    "months = np.array(['', 'Jan', 'Feb', 'Mar', 'Apr', 'May', 'Jun', 'Jul', 'Aug', 'Sep', 'Oct', 'Nov', 'Dec'])"
   ]
  },
  {
   "cell_type": "code",
   "execution_count": 38,
   "metadata": {},
   "outputs": [
    {
     "data": {
      "text/plain": [
       "([<matplotlib.patches.Wedge at 0x25c35634160>,\n",
       "  <matplotlib.patches.Wedge at 0x25c356345f8>,\n",
       "  <matplotlib.patches.Wedge at 0x25c35634a90>,\n",
       "  <matplotlib.patches.Wedge at 0x25c35634f28>,\n",
       "  <matplotlib.patches.Wedge at 0x25c3563e400>],\n",
       " [Text(0.9668351890432901, 0.5246234051466115, 'Utilities (15.8%)'),\n",
       "  Text(-1.0590586039819845, 0.2973127533956961, 'Shopping (59.6%)'),\n",
       "  Text(0.2507474780100944, -1.071039542814166, 'Transport (6.39%)'),\n",
       "  Text(0.7967104758438704, -0.7584539654327306, 'Groceries (12.0%)'),\n",
       "  Text(1.0800322178138413, -0.20863942217163992, 'Eat-Out (6.07%)')])"
      ]
     },
     "execution_count": 38,
     "metadata": {},
     "output_type": "execute_result"
    },
    {
     "data": {
      "image/png": "[encoded data removed]",
      "text/plain": [
       "<Figure size 432x288 with 1 Axes>"
      ]
     },
     "metadata": {},
     "output_type": "display_data"
    }
   ],
   "source": [
    "month = 7\n",
    "year = 2019\n",
    "\n",
    "mask = (tdata['Date'].dt.year == year) & (tdata['Date'].dt.month == month)\n",
    "df = tdata[mask]\n",
    "\n",
    "cats = df['Category'].unique().astype('str')\n",
    "total = np.zeros(cats.shape)\n",
    "for i in range(cats.shape[0]):\n",
    "    total[i] = df[df['Category'] == cats[i]]['Amt'].sum()\n",
    "\n",
    "ratio = (total *100 / sum(total)).astype('|S4').astype('str')\n",
    "cats = npStrAdd( npStrAdd(npStrAdd(cats,' (') , ratio) , '%)')\n",
    "fig, ax = plt.subplots()\n",
    "ax.pie(total, labels=cats)\n"
   ]
  },
  {
   "cell_type": "code",
   "execution_count": 39,
   "metadata": {},
   "outputs": [
    {
     "data": {
      "image/png": "[encoded data removed]",
      "text/plain": [
       "<Figure size 432x288 with 1 Axes>"
      ]
     },
     "metadata": {
      "needs_background": "light"
     },
     "output_type": "display_data"
    }
   ],
   "source": [
    "cat = 'Groceries'\n",
    "year = 2019\n",
    "\n",
    "mask = (tdata['Date'].dt.year == year) & (tdata['Category'] == cat)\n",
    "df = tdata[mask]\n",
    "grouped = df.groupby(by=df['Date'].dt.month)['Amt'].sum()\n",
    "grouped.index = pd.CategoricalIndex(months[grouped.index])\n",
    "\n",
    "fig, ax = plt.subplots()\n",
    "ax = grouped.plot.bar(x='Date', y='Amt', rot=0)\n",
    "for p in ax.patches:\n",
    "    ax.annotate(str(p.get_height()) + '$', (p.get_x()+0.04, p.get_height() - 15), c='white')"
   ]
  },
  {
   "cell_type": "code",
   "execution_count": 43,
   "metadata": {},
   "outputs": [
    {
     "data": {
      "text/html": [
       "<div>\n",
       "<style scoped>\n",
       "    .dataframe tbody tr th:only-of-type {\n",
       "        vertical-align: middle;\n",
       "    }\n",
       "\n",
       "    .dataframe tbody tr th {\n",
       "        vertical-align: top;\n",
       "    }\n",
       "\n",
       "    .dataframe thead th {\n",
       "        text-align: right;\n",
       "    }\n",
       "</style>\n",
       "<table border=\"1\" class=\"dataframe\">\n",
       "  <thead>\n",
       "    <tr style=\"text-align: right;\">\n",
       "      <th></th>\n",
       "      <th>Budget</th>\n",
       "      <th>Amt</th>\n",
       "    </tr>\n",
       "  </thead>\n",
       "  <tbody>\n",
       "    <tr>\n",
       "      <th>Cash</th>\n",
       "      <td>350</td>\n",
       "      <td>NaN</td>\n",
       "    </tr>\n",
       "    <tr>\n",
       "      <th>Eat-Out</th>\n",
       "      <td>300</td>\n",
       "      <td>38.00</td>\n",
       "    </tr>\n",
       "    <tr>\n",
       "      <th>Groceries</th>\n",
       "      <td>300</td>\n",
       "      <td>75.50</td>\n",
       "    </tr>\n",
       "    <tr>\n",
       "      <th>House</th>\n",
       "      <td>2080</td>\n",
       "      <td>NaN</td>\n",
       "    </tr>\n",
       "    <tr>\n",
       "      <th>Shopping</th>\n",
       "      <td>400</td>\n",
       "      <td>373.09</td>\n",
       "    </tr>\n",
       "    <tr>\n",
       "      <th>Transport</th>\n",
       "      <td>300</td>\n",
       "      <td>40.00</td>\n",
       "    </tr>\n",
       "    <tr>\n",
       "      <th>Utilities</th>\n",
       "      <td>150</td>\n",
       "      <td>99.00</td>\n",
       "    </tr>\n",
       "  </tbody>\n",
       "</table>\n",
       "</div>"
      ],
      "text/plain": [
       "           Budget     Amt\n",
       "Cash          350     NaN\n",
       "Eat-Out       300   38.00\n",
       "Groceries     300   75.50\n",
       "House        2080     NaN\n",
       "Shopping      400  373.09\n",
       "Transport     300   40.00\n",
       "Utilities     150   99.00"
      ]
     },
     "execution_count": 43,
     "metadata": {},
     "output_type": "execute_result"
    },
    {
     "data": {
      "image/png": "[encoded data removed]",
      "text/plain": [
       "<Figure size 432x288 with 1 Axes>"
      ]
     },
     "metadata": {
      "needs_background": "light"
     },
     "output_type": "display_data"
    }
   ],
   "source": [
    "month = 7\n",
    "year = 2019\n",
    "\n",
    "tmask = (tdata['Date'].dt.year == year) & (tdata['Date'].dt.month == month)\n",
    "bmask = (bdata['Month'].dt.year == year) & (bdata['Month'].dt.month == month)\n",
    "df = tdata[tmask]\n",
    "\n",
    "budget = bdata[bmask]['Budget']\n",
    "budget.index = pd.CategoricalIndex(bdata[bmask]['Category'])\n",
    "\n",
    "cats = df['Category'].unique().astype('str')\n",
    "total = np.zeros(cats.shape)\n",
    "for i in range(cats.shape[0]):\n",
    "    total[i] = df[df['Category'] == cats[i]]['Amt'].sum()\n",
    "\n",
    "grouped = pd.Series(total, name='Amt', index=pd.CategoricalIndex(cats))\n",
    "\n",
    "df = pd.concat([budget, grouped], axis=1)\n",
    "df = df.dropna(axis=0, how='all')\n",
    "fig, ax = plt.subplots()\n",
    "df.plot.barh(ax=ax)\n",
    "plt.legend()    \n",
    "\n",
    "df"
   ]
  }
 ],
 "metadata": {
  "kernelspec": {
   "display_name": "Python 3",
   "language": "python",
   "name": "python3"
  },
  "language_info": {
   "codemirror_mode": {
    "name": "ipython",
    "version": 3
   },
   "file_extension": ".py",
   "mimetype": "text/x-python",
   "name": "python",
   "nbconvert_exporter": "python",
   "pygments_lexer": "ipython3",
   "version": "3.7.3"
  }
 },
 "nbformat": 4,
 "nbformat_minor": 4
}
